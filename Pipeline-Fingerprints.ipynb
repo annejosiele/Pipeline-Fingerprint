# Importing libraries
from rdkit.Chem import AllChem
from rdkit import Chem
import pandas as pd

# Loading data
df = pd.read_excel("your-dataset-with-SMILES-descriptors.xlsx")

# Preparing data
# Dropping duplicates
df = df.drop_duplicates(subset="Chemical-Name").reset_index(drop=True)

# List to store fingerprints and IDs
lfps = []
identifiers = []

# Loop through SMILES in dataset
for i, row in df.iterrows():
    smiles = row["row-with-SMILES"]
    identifier = row["Chemical-Name"]
    identifiers.append(identifier)

    mol = Chem.MolFromSmiles(smiles)
    if mol:
        fp = AllChem.GetMorganFingerprintAsBitVect(mol, radius=2, nBits=2048)
        lfps.append(list(fp))
    else:
        print(f"SMILES inválido na linha {i}: {smiles}")
        lfps.append([0] * 2048)

# Create a dataframe with the fingerprints and the identifier
df_fps = pd.DataFrame(lfps, columns=[f"FP_{i}" for i in range(2048)])
df_fps["Chemical-Name"] = identifiers

# Merge the fingerprints to the original dataset
df_merged = pd.merge(df, df_fps, on="Chemical-Name", how="left")

# Save the dataset
df_merged.to_excel("Name-Your-Dataset-With-Fingerprints.xlsx", index=False)

print("Process is finished. Quack!.")
